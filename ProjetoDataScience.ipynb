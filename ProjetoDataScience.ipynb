{
  "cells": [
    {
      "cell_type": "markdown",
      "metadata": {
        "id": "WwufnHfvfSwv",
        "pycharm": {
          "name": "#%% md\n"
        }
      },
      "source": [
        "# **Final Report - Data Science**\n",
        "## Bachelor's Degree in Computer Science / PUCPR\n",
        "\n",
        "**Prof. Jean Paul Barddal** / **Prof. Rayson Laroca**\n",
        "\n",
        "`Arthur Przygocki` - `arthurprzygocki170403@gmail.com`\n",
        "\n",
        "`Carlos Eduardo Rodrigues Mello` - `carlosrmelloo@gmail.com`\n",
        "\n",
        "`Gabriel Yuichi Suzaki` - `yuichigabriel0@gmail.com`\n",
        "\n",
        "`Henrique Tetilha Golias` - `henriquetetilha@gmail.com`\n",
        "\n",
        "`Maria Julia Prado Lazaroto` - `mariajulialazaroto@gmail.com`\n",
        "\n",
        "`2025`"
      ]
    },
    {
      "cell_type": "markdown",
      "metadata": {
        "id": "68-F6cD9VL-J",
        "pycharm": {
          "name": "#%% md\n"
        }
      },
      "source": [
        "# **Import the libs you need**"
      ]
    },
    {
      "cell_type": "code",
      "execution_count": 6,
      "metadata": {
        "id": "itrIGnaaVQnH",
        "pycharm": {
          "name": "#%%\n"
        }
      },
      "outputs": [],
      "source": [
        "import pandas as pd\n",
        "import numpy as np\n",
        "import kagglehub\n",
        "from kagglehub import KaggleDatasetAdapter\n",
        "from collections import Counter"
      ]
    },
    {
      "cell_type": "markdown",
      "metadata": {
        "id": "kTP1pmiPgDY_",
        "pycharm": {
          "name": "#%% md\n"
        }
      },
      "source": [
        "# **Load your data**"
      ]
    },
    {
      "cell_type": "markdown",
      "metadata": {
        "id": "DIRXQ53th3am",
        "pycharm": {
          "name": "#%% md\n"
        }
      },
      "source": [
        "Below, load the data using pandas and perform all necessary data cleansing to ensure that the data types are correct for further analysis."
      ]
    },
    {
      "cell_type": "code",
      "execution_count": 2,
      "metadata": {
        "id": "-VCzmIHcgA2P",
        "pycharm": {
          "name": "#%%\n"
        }
      },
      "outputs": [
        {
          "name": "stderr",
          "output_type": "stream",
          "text": [
            "C:\\Users\\henri\\AppData\\Local\\Temp\\ipykernel_27760\\1735426109.py:3: DeprecationWarning: load_dataset is deprecated and will be removed in future version.\n",
            "  df = kagglehub.load_dataset(\n"
          ]
        },
        {
          "name": "stdout",
          "output_type": "stream",
          "text": [
            "Warning: Looks like you're using an outdated `kagglehub` version (installed: 0.3.10), please consider upgrading to the latest version (0.3.11).\n",
            "Downloading from https://www.kaggle.com/api/v1/datasets/download/asaniczka/top-spotify-songs-in-73-countries-daily-updated?dataset_version_number=551&file_name=universal_top_spotify_songs.csv...\n"
          ]
        },
        {
          "name": "stderr",
          "output_type": "stream",
          "text": [
            "100%|██████████| 430M/430M [01:09<00:00, 6.52MB/s] \n"
          ]
        }
      ],
      "source": [
        "file_path = \"universal_top_spotify_songs.csv\"\n",
        "\n",
        "df = kagglehub.load_dataset(\n",
        "  KaggleDatasetAdapter.PANDAS,\n",
        "  \"asaniczka/top-spotify-songs-in-73-countries-daily-updated\",\n",
        "  file_path,\n",
        ")"
      ]
    },
    {
      "cell_type": "code",
      "execution_count": null,
      "metadata": {
        "id": "Zpe46g9NiAy5",
        "pycharm": {
          "name": "#%%\n"
        }
      },
      "outputs": [],
      "source": [
        "# clean and treat the data here"
      ]
    },
    {
      "cell_type": "code",
      "execution_count": 4,
      "metadata": {
        "id": "Y7WshR3nmZkL",
        "pycharm": {
          "name": "#%%\n"
        }
      },
      "outputs": [],
      "source": [
        "# use as many code and text cells as needed"
      ]
    },
    {
      "cell_type": "markdown",
      "metadata": {
        "collapsed": false,
        "id": "8R3Z5xgWyj1i"
      },
      "source": [
        "# **Statistical Description**"
      ]
    },
    {
      "cell_type": "markdown",
      "metadata": {
        "collapsed": false,
        "id": "ULcpwDnOyj1i"
      },
      "source": [
        "In this section, you should report the key characteristics of the dataset, including but not limited to:\n",
        "* Number of instances;\n",
        "* Number of features;\n",
        "* Number of classes;\n",
        "* Class distribution."
      ]
    },
    {
      "cell_type": "markdown",
      "metadata": {},
      "source": [
        "### **Number of Instances**:"
      ]
    },
    {
      "cell_type": "code",
      "execution_count": 11,
      "metadata": {},
      "outputs": [
        {
          "name": "stdout",
          "output_type": "stream",
          "text": [
            "Number of instances: 1908657\n"
          ]
        }
      ],
      "source": [
        "row_count = len(df)\n",
        "print(f\"Number of instances: {row_count}\")"
      ]
    },
    {
      "cell_type": "markdown",
      "metadata": {},
      "source": [
        "### **25 Features**:"
      ]
    },
    {
      "cell_type": "markdown",
      "metadata": {},
      "source": [
        "**spotify_id**: The unique identifier for the song in the Spotify database. `(str)`\n",
        "\n",
        "**name**: The title of the song. `(str)`\n",
        "\n",
        "**artists**: The name(s) of the artist(s) associated with the song. `(str)`\n",
        "\n",
        "**daily_rank**: The daily rank of the song in the top 50 list. `(int)`\n",
        "\n",
        "**daily_movement**: The change in rankings compared to the previous day. `(int)`\n",
        "\n",
        "**weekly_movement**: The change in rankings compared to the previous week. `(int)`\n",
        "\n",
        "**country**: The ISO code of the country of the Top 50 Playlist. If Null, then the playlist if 'Global Top 50'. `(str)`\n",
        "\n",
        "**snapshot_date**: The date on which the data was collected from the Spotify. `(str)`\n",
        "\n",
        "**popularity**: A measure of the song's current popularity on Spotify. `(int)`\n",
        "\n",
        "**is_explicit**: Indicates whether the song contains explicit lyrics. `(bool)`\n",
        "\n",
        "**duration_ms**: The duration of the song in milliseconds. `(int)`\n",
        "\n",
        "**album_name**: The title of the album the song belongs to. `(str)`\n",
        "\n",
        "**album_release_date**: The release date of the album the song belongs to. `(str)`\n",
        "\n",
        "**danceability**: A measure of how suitable the song is for dancing based on various musical elements. `(float)`\n",
        "\n",
        "**energy**: A measure of the intensity and activity level of the song. `(float)`\n",
        "\n",
        "**key**: The key of the song. `(int)`\n",
        "\n",
        "**loudness**: The overall loudness of the song in decibels. `(float)`\n",
        "\n",
        "**mode**: Indicates whether the song is in a major or minor key. `(int)`\n",
        "\n",
        "**speechiness**: A measure of the presence of spoken words in the song. `(float)`\n",
        "\n",
        "**acousticness**: A measure of the acoustic quality of the song. `(float)`\n",
        "\n",
        "**instrumentalness**: A measure of the likelihood that the song does not contain vocals. `(float)`\n",
        "\n",
        "**liveness**: A measure of the presence of a live audience in the recording. `(float)`\n",
        "\n",
        "**valence**: A measure of the musical positiveness conveyed by the song. `(float)`\n",
        "\n",
        "**tempo**: The tempo of the song in beats per minute. `(float)`\n",
        "\n",
        "**time_signature**: The estimated overall time signature of the song. `(int)`"
      ]
    },
    {
      "cell_type": "markdown",
      "metadata": {
        "id": "xX9sOXW1gOCU",
        "pycharm": {
          "name": "#%% md\n"
        }
      },
      "source": [
        "# **Univariate data analysis**"
      ]
    },
    {
      "cell_type": "markdown",
      "metadata": {
        "id": "EQljrblLzQQz",
        "pycharm": {
          "name": "#%% md\n"
        }
      },
      "source": [
        "In this section, you should perform univariate data analysis on at least **20 variables**.\n",
        "\n",
        "In the end, you should describe the main variables that are of your interest, and these should be accounted for in the next sections of the report.\n",
        "The definition of each variable chosen should be clarified, so arbitrary selections are **not** accepted at this point.\n",
        "\n",
        "For each variable plotted, make sure you determine the following:\n",
        "1. The distribution of the data (Gaussian, binomial, exponential, etc.);\n",
        "2. Skewness;\n",
        "3. Kurtosis;\n",
        "4. Mean, standard deviation, and what they stand for in the context of the dataset.\n",
        "\n",
        "Ensure that each variable is **plotted correctly** based on its type. For instance, make sure scatterplots are not used for categorical data and so forth."
      ]
    },
    {
      "cell_type": "code",
      "execution_count": null,
      "metadata": {
        "id": "BWS2-FMfgWJR",
        "pycharm": {
          "name": "#%%\n"
        }
      },
      "outputs": [],
      "source": [
        "# place as many cells to plot the visualizations,\n",
        "# as well as to describe the main findings"
      ]
    },
    {
      "cell_type": "code",
      "execution_count": null,
      "metadata": {
        "id": "zACQ5EROmhM5",
        "pycharm": {
          "name": "#%%\n"
        }
      },
      "outputs": [],
      "source": [
        "# if you realize you need to further clean your data here, there is no problem,\n",
        "# yet, make sure you are describing the entire process and the rationale\n",
        "# behind your choices here"
      ]
    },
    {
      "cell_type": "markdown",
      "metadata": {
        "id": "cAVrOW1tgQU7",
        "pycharm": {
          "name": "#%% md\n"
        }
      },
      "source": [
        "# **Multivariate data analysis**"
      ]
    },
    {
      "cell_type": "markdown",
      "metadata": {
        "id": "jD7VaU40z_sN",
        "pycharm": {
          "name": "#%% md\n"
        }
      },
      "source": [
        "In this section, you should plot at least **5 multivariate visualizations**. The key here is to investigate underlying correlations and behaviors within the dataset.\n",
        "Naturally, as visualizations are being created, we should end up with obvious results, yet, you should find at least **ONE** non-obvious behavior in the data.\n",
        "\n",
        "Please follow these steps for creating your visualizations:\n",
        "1. State an hypothesis. Explain why you have selected these specific variables and what you expect to discover through their relationship;\n",
        "2. Determine what kind of visualization is the most suitable;\n",
        "3. Report the findings and discuss whether they corroborate or not the aforementioned hypothesis.\n",
        "\n",
        "\n",
        "### Hints\n",
        "\n",
        "In this section, make sure you go beyond naive explorations. For example, consider applying techniques such as PCA, t-SNE, or even others that we haven't covered in the lectures. The goal is to cultivate a critical mindset toward data analysis and our work.\n",
        "\n",
        "### Important\n",
        "\n",
        "It is strictly prohibited to create multivariate visualizations using variables that were not included in the previous section (univariate data analysis)."
      ]
    },
    {
      "cell_type": "code",
      "execution_count": null,
      "metadata": {
        "id": "fp4ct7TngWmF",
        "pycharm": {
          "name": "#%%\n"
        }
      },
      "outputs": [],
      "source": [
        "# again, feel free to place as many cells to plot the visualizations,\n",
        "# as well as describe to the main findings"
      ]
    },
    {
      "cell_type": "markdown",
      "metadata": {
        "id": "ehWz8rAcgZ0c",
        "pycharm": {
          "name": "#%% md\n"
        }
      },
      "source": [
        "# **Final Plots (Effective Data Visualization)**"
      ]
    },
    {
      "cell_type": "markdown",
      "metadata": {
        "id": "OHyF3RvU2q9r",
        "pycharm": {
          "name": "#%% md\n"
        }
      },
      "source": [
        "In this section, you need to **enhance 3 multivariate visualizations** that were presented in the previous section of the report.\n",
        "The goal is to enhance these visualizations so that they can be effectively presented to an audience unfamiliar with the dataset or with data analysis.\n",
        "**Therefore, make sure that their size, colors, textures, and other visual elements are appropriate and convey the intended information to the audience.**\n",
        "\n",
        "For your final plots, make sure you follow these steps:\n",
        "1. Present the plot;\n",
        "2. Provide a description of the visualization, highlighting the key findings that can be drawn from it.\n",
        "\n",
        "\n",
        "**Hint**: take a look at the checklist based on Evergreen’s work to ensure your visualizations meet the best practices for clarity and impact."
      ]
    },
    {
      "cell_type": "code",
      "execution_count": null,
      "metadata": {
        "id": "K90_0h6JgfnW",
        "pycharm": {
          "name": "#%%\n"
        }
      },
      "outputs": [],
      "source": [
        "# your code goes here"
      ]
    },
    {
      "cell_type": "markdown",
      "metadata": {
        "id": "Ua7B5nTmgbN7",
        "pycharm": {
          "name": "#%% md\n"
        }
      },
      "source": [
        "# **Digest**"
      ]
    },
    {
      "cell_type": "markdown",
      "metadata": {
        "id": "YJ0cqdoj4Lg7",
        "pycharm": {
          "name": "#%% md\n"
        }
      },
      "source": [
        "In this section you should write down the main findings of this exploratory data analysis. Furthermore, you should provide a reflection about your own work and effort during the module, highlighting what you believe you have done well and what you should have done differently. This digest should have at least 2,500 characters (excluding spaces)."
      ]
    },
    {
      "cell_type": "markdown",
      "metadata": {
        "id": "NQWFN0TEPUzp",
        "pycharm": {
          "name": "#%% md\n"
        }
      },
      "source": [
        "```\n",
        "Add your text here.\n",
        "```"
      ]
    },
    {
      "cell_type": "markdown",
      "metadata": {
        "id": "BDlyU2X8yj1j"
      },
      "source": [
        "# **Machine Learning (**post checkpoint!**)**\n",
        "\n",
        "In this section, you must create at least **3 machine learning models** for the task at hand. Depending on the problem's nature, you must select from classification, regression, or clustering models.\n",
        "It is also important that you:\n",
        "* Select **an appropriate validation protocol**, providing a rationale for why it is appropriate for this specific task;\n",
        "* Choose **a suitable set of evaluation metrics**, providing an explanation for each and describing how it contributes to evaluating the model's performance in the context of this specific task."
      ]
    },
    {
      "cell_type": "code",
      "execution_count": null,
      "metadata": {
        "id": "wmLE99R_yj1k"
      },
      "outputs": [],
      "source": [
        "# use as many cells as needed"
      ]
    },
    {
      "cell_type": "markdown",
      "metadata": {
        "id": "_CaFQEil1F6Q",
        "pycharm": {
          "name": "#%% md\n"
        }
      },
      "source": [
        "# **Final Steps (Submission)**\n"
      ]
    },
    {
      "cell_type": "markdown",
      "metadata": {
        "id": "a2R5Kily1H7f",
        "pycharm": {
          "name": "#%% md\n"
        }
      },
      "source": [
        "1. Save this report as a Jupyter Notebook (`.ipynb`);\n",
        "2. Export a copy of the report as a PDF file (`.pdf`);\n",
        "3. Copy the dataset;\n",
        "4. Compress all the files (the Jupyter Notebook, PDF, and dataset) into a single ZIP archive (`<your_team_name>.zip`);\n",
        "5. Upload the ZIP file to AVA."
      ]
    },
    {
      "cell_type": "code",
      "execution_count": null,
      "metadata": {
        "id": "Ge-rZWsIyj1k",
        "pycharm": {
          "name": "#%%\n"
        }
      },
      "outputs": [],
      "source": []
    }
  ],
  "metadata": {
    "accelerator": "GPU",
    "colab": {
      "provenance": [],
      "toc_visible": true
    },
    "kernelspec": {
      "display_name": "Python 3",
      "language": "python",
      "name": "python3"
    },
    "language_info": {
      "codemirror_mode": {
        "name": "ipython",
        "version": 3
      },
      "file_extension": ".py",
      "mimetype": "text/x-python",
      "name": "python",
      "nbconvert_exporter": "python",
      "pygments_lexer": "ipython3",
      "version": "3.13.2"
    }
  },
  "nbformat": 4,
  "nbformat_minor": 0
}
