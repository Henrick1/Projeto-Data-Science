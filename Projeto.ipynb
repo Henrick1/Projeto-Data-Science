{
 "cells": [
  {
   "cell_type": "code",
   "execution_count": 1,
   "metadata": {},
   "outputs": [
    {
     "name": "stderr",
     "output_type": "stream",
     "text": [
      "c:\\Python312\\Lib\\site-packages\\tqdm\\auto.py:21: TqdmWarning: IProgress not found. Please update jupyter and ipywidgets. See https://ipywidgets.readthedocs.io/en/stable/user_install.html\n",
      "  from .autonotebook import tqdm as notebook_tqdm\n",
      "C:\\Users\\Arthur\\AppData\\Local\\Temp\\ipykernel_14160\\131758281.py:7: DeprecationWarning: load_dataset is deprecated and will be removed in future version.\n",
      "  df = kagglehub.load_dataset(\n"
     ]
    },
    {
     "name": "stdout",
     "output_type": "stream",
     "text": [
      "Downloading from https://www.kaggle.com/api/v1/datasets/download/asaniczka/top-spotify-songs-in-73-countries-daily-updated?dataset_version_number=552&file_name=universal_top_spotify_songs.csv...\n"
     ]
    },
    {
     "name": "stderr",
     "output_type": "stream",
     "text": [
      "100%|██████████| 431M/431M [02:05<00:00, 3.61MB/s] \n"
     ]
    }
   ],
   "source": [
    "import kagglehub\n",
    "from kagglehub import KaggleDatasetAdapter\n",
    "import pandas\n",
    "\n",
    "file_path = \"universal_top_spotify_songs.csv\"\n",
    "\n",
    "df = kagglehub.load_dataset(\n",
    "  KaggleDatasetAdapter.PANDAS,\n",
    "  \"asaniczka/top-spotify-songs-in-73-countries-daily-updated\",\n",
    "  file_path,\n",
    ")"
   ]
  },
  {
   "cell_type": "markdown",
   "metadata": {},
   "source": [
    "# Quais são as instâncias?"
   ]
  },
  {
   "cell_type": "code",
   "execution_count": null,
   "metadata": {},
   "outputs": [],
   "source": [
    "df"
   ]
  },
  {
   "cell_type": "markdown",
   "metadata": {},
   "source": [
    "# Features"
   ]
  },
  {
   "cell_type": "code",
   "execution_count": 3,
   "metadata": {},
   "outputs": [
    {
     "name": "stdout",
     "output_type": "stream",
     "text": [
      "spotify_id\n",
      "name\n",
      "artists\n",
      "daily_rank\n",
      "daily_movement\n",
      "weekly_movement\n",
      "country\n",
      "snapshot_date\n",
      "popularity\n",
      "is_explicit\n",
      "duration_ms\n",
      "album_name\n",
      "album_release_date\n",
      "danceability\n",
      "energy\n",
      "key\n",
      "loudness\n",
      "mode\n",
      "speechiness\n",
      "acousticness\n",
      "instrumentalness\n",
      "liveness\n",
      "valence\n",
      "tempo\n",
      "time_signature\n"
     ]
    }
   ],
   "source": [
    "for feature in (df.columns.tolist()):\n",
    "    print(feature)"
   ]
  },
  {
   "cell_type": "markdown",
   "metadata": {},
   "source": [
    "# Class Ratio"
   ]
  },
  {
   "cell_type": "code",
   "execution_count": 8,
   "metadata": {},
   "outputs": [
    {
     "name": "stdout",
     "output_type": "stream",
     "text": [
      "-----------------------------\n",
      "spotify_id\n",
      "6dOtVTDdiauQNBQEDOtlAB    14630\n",
      "2plbrEY59IikOBgBGLjaoe    12096\n",
      "17phhZDn6oGtzMe56NuWvj    11201\n",
      "3xkHsmpQCBMytMJNiDf3Ii     9703\n",
      "7bywjHOc0wSjGGbj04XbVi     8522\n",
      "                          ...  \n",
      "6hrH0mb1qQsd4VRxssKa6p        1\n",
      "0oEggQXxzb1U5oCTUQK1GB        1\n",
      "6b56cSwwp8JXDQiZ4dXkBf        1\n",
      "3uWDhz3cIoWzN1944cUmq6        1\n",
      "4dkAVeT8SCueEWoKK3Q2R0        1\n",
      "Name: count, Length: 22394, dtype: int64\n",
      "-----------------------------\n",
      "name\n",
      "BIRDS OF A FEATHER    14630\n",
      "Die With A Smile      13903\n",
      "Espresso              12663\n",
      "Beautiful Things      12519\n",
      "Lose Control          11201\n",
      "                      ...  \n",
      "Suicide                   1\n",
      "trenger min love          1\n",
      "Te văd în trecut          1\n",
      "Me Usa                    1\n",
      "Idiota                    1\n",
      "Name: count, Length: 19618, dtype: int64\n",
      "-----------------------------\n",
      "artists\n",
      "Billie Eilish                    29665\n",
      "Sabrina Carpenter                27752\n",
      "Bad Bunny                        25200\n",
      "KAROL G                          19099\n",
      "Taylor Swift                     18630\n",
      "                                 ...  \n",
      "Ayra Starr, Milar                    1\n",
      "MadMan, thasup                       1\n",
      "Diss Gacha, Sala, Wiz Khalifa        1\n",
      "MadMan, Gemitaiz                     1\n",
      "Leto, Koba LaD                       1\n",
      "Name: count, Length: 12521, dtype: int64\n",
      "-----------------------------\n",
      "country\n",
      "DO    26325\n",
      "IT    26324\n",
      "NI    26320\n",
      "PL    26314\n",
      "HU    26313\n",
      "      ...  \n",
      "VN    25556\n",
      "UY    25553\n",
      "LU    25497\n",
      "VE    25413\n",
      "GB    20869\n",
      "Name: count, Length: 72, dtype: int64\n",
      "-----------------------------\n",
      "snapshot_date\n",
      "2024-03-16    3942\n",
      "2023-11-20    3866\n",
      "2024-03-18    3836\n",
      "2024-03-14    3769\n",
      "2023-10-27    3766\n",
      "              ... \n",
      "2024-04-20    3150\n",
      "2024-04-24    2500\n",
      "2024-04-23    2100\n",
      "2024-04-21    1900\n",
      "2024-04-22    1850\n",
      "Name: count, Length: 526, dtype: int64\n",
      "-----------------------------\n",
      "is_explicit\n",
      "False    1278358\n",
      "True      626699\n",
      "Name: count, dtype: int64\n",
      "-----------------------------\n",
      "album_name\n",
      "HIT ME HARD AND SOFT                                27892\n",
      "DeBÍ TiRAR MáS FOToS                                22282\n",
      "nadie sabe lo que va a pasar mañana                 18067\n",
      "FERXXOCALIPSIS                                      13918\n",
      "Short n' Sweet                                      13373\n",
      "                                                    ...  \n",
      "Por Amor A Mi Pueblo                                    1\n",
      "Hot Ones                                                1\n",
      "PROTOMARANZA                                            1\n",
      "Medicijn                                                1\n",
      "Obudziłem się w Bukareszcie (Def Jam World Tour)        1\n",
      "Name: count, Length: 14842, dtype: int64\n",
      "-----------------------------\n",
      "album_release_date\n",
      "2024-05-17    31790\n",
      "2023-09-15    27840\n",
      "2024-04-05    25802\n",
      "2023-12-01    25289\n",
      "2023-10-13    25125\n",
      "              ...  \n",
      "2021-02-09        1\n",
      "2021-11-22        1\n",
      "2015-05-30        1\n",
      "2015-10-23        1\n",
      "2020-01-15        1\n",
      "Name: count, Length: 2780, dtype: int64\n"
     ]
    }
   ],
   "source": [
    "for col in df.select_dtypes(exclude='number').columns:\n",
    "    print(f'-----------------------------')\n",
    "    print(df[col].value_counts())\n"
   ]
  },
  {
   "cell_type": "markdown",
   "metadata": {},
   "source": [
    "# 20 Análises Univariativas"
   ]
  },
  {
   "cell_type": "code",
   "execution_count": 2,
   "metadata": {},
   "outputs": [],
   "source": [
    "import pandas as pd\n",
    "import matplotlib.pyplot as plt\n",
    "import numpy as np\n",
    "import seaborn as sns"
   ]
  },
  {
   "cell_type": "code",
   "execution_count": null,
   "metadata": {},
   "outputs": [],
   "source": [
    "# Variação de Músicas que mais variaram em relação ao dia anterior\n",
    "plt.figure(figsize=(12, 6))\n",
    "plt.hist(df['daily_movement'], bins=range(df['daily_movement'].min(), df['daily_movement'].max() + 1),\n",
    "         color='skyblue', edgecolor='black', align='left')\n",
    "\n",
    "plt.title('Frequência de Variações Diárias no Ranking')\n",
    "plt.xlabel('Variação no Ranking (daily_movement)')\n",
    "plt.ylabel('Número de Músicas')\n",
    "\n",
    "plt.grid(True)\n",
    "plt.tight_layout()\n",
    "plt.show()\n",
    "\n",
    "# Contar quantas músicas têm cada valor de variação (diária)\n",
    "contagem_variacoes = df['daily_movement'].value_counts().sort_index()\n",
    "\n",
    "# Printar de forma organizada\n",
    "print(\"Variação no Ranking | Quantidade de Músicas\")\n",
    "for variacao, qtd in contagem_variacoes.items():\n",
    "    print(f\"{variacao} | {qtd}\")"
   ]
  },
  {
   "cell_type": "code",
   "execution_count": null,
   "metadata": {},
   "outputs": [],
   "source": [
    "# Variação de Músicas que mais variaram em relação a semana anterior\n",
    "plt.figure(figsize=(12, 6))\n",
    "plt.hist(df['weekly_movement'], bins=range(df['weekly_movement'].min(), df['weekly_movement'].max() + 1), \n",
    "         color='skyblue', edgecolor='black', align='left')\n",
    "\n",
    "plt.title('Frequência de Variações Diárias no Ranking')\n",
    "plt.xlabel('Variação no Ranking (weekly_movement)')\n",
    "plt.ylabel('Número de Músicas')\n",
    "\n",
    "plt.grid(True)\n",
    "plt.tight_layout()\n",
    "plt.show()\n",
    "\n",
    "# Contar quantas músicas têm cada valor de variação (semanal)\n",
    "contagem_variacoes = df['weekly_movement'].value_counts().sort_index()\n",
    "\n",
    "# Printar de forma organizada\n",
    "print(\"Variação no Ranking | Quantidade de Músicas\")\n",
    "for variacao, qtd in contagem_variacoes.items():\n",
    "    print(f\"{variacao} | {qtd}\")\n"
   ]
  },
  {
   "cell_type": "code",
   "execution_count": null,
   "metadata": {},
   "outputs": [],
   "source": [
    "# Dados dos 25 países com mais músicas\n",
    "top_countries = df['country'].value_counts(dropna=True).head(25)\n",
    "\n",
    "plt.figure(figsize=(12, 6))\n",
    "top_countries.plot(kind='bar', color='skyblue', edgecolor='black')\n",
    "\n",
    "plt.yscale('log')  # Escala logarítmica\n",
    "\n",
    "plt.title('Top 25 Países com Mais Músicas no Top 50 (Escala Log)', fontsize=14)\n",
    "plt.xlabel('País', fontsize=12)\n",
    "plt.ylabel('Número de Músicas (log)', fontsize=12)\n",
    "plt.xticks(rotation=45, ha='right')\n",
    "\n",
    "plt.tight_layout()\n",
    "plt.show()\n",
    "\n",
    "# Países com mais músicas.\n",
    "print(\"\\n Países com mais músicas:\")\n",
    "print(df['country'].value_counts(dropna=True).head(25))"
   ]
  },
  {
   "cell_type": "code",
   "execution_count": null,
   "metadata": {},
   "outputs": [],
   "source": [
    "# Distribuição de músicas com e sem vocais.\n",
    "print(\"\\n Distribuição de músicas com e sem vocais:\")\n",
    "df['vocals'] = df['instrumentalness'].apply(lambda x: 'Instrumental' if x > 0.5 else 'Com vocais')\n",
    "print(df['vocals'].value_counts())\n",
    "\n",
    "# Contando quantas músicas em cada categoria\n",
    "vocals_count = df['vocals'].value_counts()\n",
    "\n",
    "# Criando o gráfico\n",
    "plt.figure(figsize=(6, 5))\n",
    "vocals_count.plot(kind='bar', color=['mediumseagreen', 'mediumpurple'], edgecolor='black')\n",
    "\n",
    "# Títulos e rótulos\n",
    "plt.title('Distribuição de Músicas com e sem Vocais', fontsize=14)\n",
    "plt.xlabel('Tipo de Música', fontsize=12)\n",
    "plt.ylabel('Número de Músicas', fontsize=12)\n",
    "plt.xticks(rotation=0)\n",
    "\n",
    "# Adiciona os valores nas barras\n",
    "for i, value in enumerate(vocals_count):\n",
    "    plt.text(i, value + value * 0.01, str(value), ha='center', va='bottom', fontsize=10)\n",
    "\n",
    "plt.tight_layout()\n",
    "plt.show()\n"
   ]
  },
  {
   "cell_type": "code",
   "execution_count": 3,
   "metadata": {},
   "outputs": [
    {
     "name": "stderr",
     "output_type": "stream",
     "text": [
      "C:\\Users\\Arthur\\AppData\\Local\\Temp\\ipykernel_14160\\62456341.py:7: FutureWarning: \n",
      "\n",
      "Passing `palette` without assigning `hue` is deprecated and will be removed in v0.14.0. Assign the `y` variable to `hue` and set `legend=False` for the same effect.\n",
      "\n",
      "  sns.barplot(x=top_artists.values, y=top_artists.index, palette=\"viridis\")\n"
     ]
    },
    {
     "data": {
      "image/png": "[encoded data removed]",
      "text/plain": [
       "<Figure size 1000x500 with 1 Axes>"
      ]
     },
     "metadata": {},
     "output_type": "display_data"
    }
   ],
   "source": [
    "# ---------------------------\n",
    "# 1. ARTISTS - Top 10 artistas mais frequentes\n",
    "# ---------------------------\n",
    "top_artists = df['artists'].value_counts().head(10)\n",
    "\n",
    "plt.figure(figsize=(10,5))\n",
    "sns.barplot(x=top_artists.values, y=top_artists.index, palette=\"viridis\")\n",
    "plt.title(\"Top 10 Artistas com Mais Faixas\")\n",
    "plt.xlabel(\"Quantidade de Faixas\")\n",
    "plt.ylabel(\"Artistas\")\n",
    "plt.tight_layout()\n",
    "plt.show()"
   ]
  },
  {
   "cell_type": "code",
   "execution_count": null,
   "metadata": {},
   "outputs": [],
   "source": [
    "# ---------------------------\n",
    "# 2. IS_EXPLICIT - Gráfico de pizza com proporção\n",
    "# ---------------------------\n",
    "explicit_counts = df['is_explicit'].value_counts()\n",
    "labels = ['Não Explícitas', 'Explícitas']\n",
    "colors = ['#66b3ff','#ff6666']\n",
    "\n",
    "plt.figure(figsize=(6,6))\n",
    "plt.pie(explicit_counts, labels=labels, autopct='%1.1f%%', colors=colors, startangle=90)\n",
    "plt.title(\"Proporção de Músicas Explícitas\")\n",
    "plt.tight_layout()\n",
    "plt.show()\n"
   ]
  },
  {
   "cell_type": "code",
   "execution_count": null,
   "metadata": {},
   "outputs": [],
   "source": [
    "# ---------------------------\n",
    "# Histograma do tamanho dos nomes das músicas\n",
    "# ---------------------------\n",
    "\n",
    "# Garantir que todos os nomes sejam tratados como string\n",
    "df['name_length'] = df['name'].apply(lambda x: len(str(x)))\n",
    "\n",
    "# Calcular a média\n",
    "avg_name_length = df['name_length'].mean()\n",
    "\n",
    "# Histograma\n",
    "plt.figure(figsize=(10, 5))\n",
    "sns.histplot(df['name_length'], bins=30, color=\"mediumslateblue\")\n",
    "\n",
    "# Linha da média\n",
    "avg_name_length = df['name_length'].mean()\n",
    "plt.axvline(avg_name_length, color='red', linestyle='--', linewidth=2, label=f'Média: {avg_name_length:.2f}')\n",
    "\n",
    "# Ajuste do eixo X\n",
    "plt.xlim(0, 60)  # Limita visualização\n",
    "plt.xticks(np.arange(0, 61, 5))  # De 0 a 60, de 5 em 5\n",
    "\n",
    "# Títulos e legendas\n",
    "plt.title(\"Distribuição do Tamanho dos Nomes das Músicas\")\n",
    "plt.xlabel(\"Número de Caracteres\")\n",
    "plt.ylabel(\"Frequência\")\n",
    "plt.legend()\n",
    "plt.tight_layout()\n",
    "plt.show()"
   ]
  },
  {
   "cell_type": "code",
   "execution_count": null,
   "metadata": {},
   "outputs": [],
   "source": [
    "# ---------------------------\n",
    "# 4. ALBUM_NAME - Top 10 álbuns mais populares\n",
    "# ---------------------------\n",
    "top_albums = df['album_name'].value_counts().head(10)\n",
    "print(df['album_name'].value_counts(dropna=True).head(10))\n",
    "\n",
    "plt.figure(figsize=(10,5))\n",
    "sns.barplot(x=top_albums.values, y=top_albums.index, palette=\"magma\")\n",
    "plt.title(\"Top 10 Álbuns Mais Populares\")\n",
    "plt.xlabel(\"Quantidade de Faixas\")\n",
    "plt.ylabel(\"Álbum\")\n",
    "plt.tight_layout()\n",
    "plt.show()"
   ]
  },
  {
   "cell_type": "markdown",
   "metadata": {},
   "source": [
    "# 10 Análises Multirate"
   ]
  },
  {
   "cell_type": "markdown",
   "metadata": {},
   "source": [
    "# 5 Métodos de visualizar os dados"
   ]
  }
 ],
 "metadata": {
  "kernelspec": {
   "display_name": "Python 3",
   "language": "python",
   "name": "python3"
  },
  "language_info": {
   "codemirror_mode": {
    "name": "ipython",
    "version": 3
   },
   "file_extension": ".py",
   "mimetype": "text/x-python",
   "name": "python",
   "nbconvert_exporter": "python",
   "pygments_lexer": "ipython3",
   "version": "3.12.3"
  }
 },
 "nbformat": 4,
 "nbformat_minor": 2
}
